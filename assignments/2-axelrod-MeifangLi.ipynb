{
 "cells": [
  {
   "cell_type": "markdown",
   "metadata": {},
   "source": [
    "Before you turn this problem in, make sure everything runs as expected. First, **restart the kernel** (in the menubar, select Kernel$\\rightarrow$Restart) and then **run all cells** (in the menubar, select Cell$\\rightarrow$Run All).\n",
    "\n",
    "Make sure you fill in any place that says `YOUR CODE HERE` or \"YOUR ANSWER HERE\", as well as your name and collaborators below:"
   ]
  },
  {
   "cell_type": "code",
   "execution_count": 1,
   "metadata": {},
   "outputs": [],
   "source": [
    "NAME = \"MeifangLi\""
   ]
  },
  {
   "cell_type": "markdown",
   "metadata": {
    "deletable": false,
    "editable": false,
    "nbgrader": {
     "cell_type": "markdown",
     "checksum": "fa322a1f44f5d80d81571bf32cc34ffc",
     "grade": false,
     "grade_id": "cell-a5766abd72c67a9b",
     "locked": true,
     "schema_version": 3,
     "solution": false
    }
   },
   "source": [
    "# Game theory in Python\n",
    "\n",
    "In this notebook we reiterate the topics touched in the lecture, get used to the basic concepts of game theory, as well as how to implement it using Python. The notebook contains four parts:\n",
    "- The (iterated) prisonners dilemma,\n",
    "- Evolutionary hawk-dove game,\n",
    "- Calculating Nash equilibria,\n",
    "- Calculating dominant strategies.\n",
    "\n",
    "First we install the package axelrod and test if we can import it."
   ]
  },
  {
   "cell_type": "code",
   "execution_count": 2,
   "metadata": {
    "deletable": false,
    "editable": false,
    "nbgrader": {
     "cell_type": "code",
     "checksum": "96bc9c73d88184e74a77d348aff6588b",
     "grade": false,
     "grade_id": "cell-0a5d58e6a45b658a",
     "locked": true,
     "schema_version": 3,
     "solution": false
    }
   },
   "outputs": [
    {
     "name": "stdout",
     "output_type": "stream",
     "text": [
      "Everything imported!\n"
     ]
    }
   ],
   "source": [
    "from IPython.display import clear_output\n",
    "import axelrod\n",
    "clear_output()\n",
    "print(\"Everything imported!\")"
   ]
  },
  {
   "cell_type": "markdown",
   "metadata": {
    "collapsed": true,
    "deletable": false,
    "editable": false,
    "nbgrader": {
     "cell_type": "markdown",
     "checksum": "49737323e12e79e4b5f608f73f1640b9",
     "grade": false,
     "grade_id": "cell-4928176461ea36c9",
     "locked": true,
     "schema_version": 3,
     "solution": false
    }
   },
   "source": [
    "### Effective Choice in the Prisoners Dilemma\n",
    "In the first part of the notebook we will recreate the research originally done by Axelrod. Start with reading his [paper](AxelrodEffectiveChoiceinthePrisonersDilemma.pdf).\n",
    "\n",
    "Fortunately for us, the prisoners dilemma is already implemented as a Python package, called Axelrod. Take a look at their [GitHub page](https://github.com/Axelrod-Python/Axelrod) and their [readthedocs](https://axelrod.readthedocs.io/en/stable/).\n",
    "\n",
    "<table>\n",
    "    <tr>\n",
    "        <td></td>\n",
    "        <td></td>\n",
    "        <td>Player A</td>\n",
    "        <td></td>\n",
    "    </tr>\n",
    "    <tr>\n",
    "        <td></td>\n",
    "        <td></td>\n",
    "        <td>C</td>\n",
    "        <td>D</td>\n",
    "    </tr>\n",
    "    <tr>\n",
    "        <td>Player B</td>\n",
    "        <td>C</td>\n",
    "        <td>(3, 3)</td>\n",
    "        <td>(0, 5)</td>\n",
    "    </tr>\n",
    "    <tr>\n",
    "        <td></td>\n",
    "        <td>D</td>\n",
    "        <td>(5, 0)</td>\n",
    "        <td>(1, 1)</td>\n",
    "    </tr>\n",
    "</table>\n",
    "\n",
    "\n",
    "To get used to the workflow of axelrod we begin by implementing a simple match. In this match we will want to see the result of a prisonners dilemma between a so-called cooperator strategy, and a so-called alternator strategy. We already implemented this for you:"
   ]
  },
  {
   "cell_type": "code",
   "execution_count": 3,
   "metadata": {
    "deletable": false,
    "editable": false,
    "nbgrader": {
     "cell_type": "code",
     "checksum": "bff2c145a363a662570fbd810abb7421",
     "grade": false,
     "grade_id": "cell-bfccfed89ccfc3dc",
     "locked": true,
     "schema_version": 3,
     "solution": false
    }
   },
   "outputs": [
    {
     "name": "stdout",
     "output_type": "stream",
     "text": [
      "turns: \t\t[(C, C), (C, D), (C, C), (C, D), (C, C)]\n",
      "final_score: \t(9, 19)\n",
      "winner: \tAlternator\n"
     ]
    }
   ],
   "source": [
    "import axelrod as axl\n",
    "# make a tuple, called players, containing Cooperator and an Alternator\n",
    "players = (axl.Cooperator(), axl.Alternator())\n",
    "\n",
    "# let them play\n",
    "match = axl.Match(players, turns=5)\n",
    "turns = match.play()\n",
    "\n",
    "# extract the final_score and winner from the match\n",
    "final_score = match.final_score()\n",
    "winner = match.winner()\n",
    "\n",
    "print(f'turns: \\t\\t{turns}')\n",
    "print(f'final_score: \\t{final_score}')\n",
    "print(f'winner: \\t{winner}')"
   ]
  },
  {
   "cell_type": "markdown",
   "metadata": {
    "deletable": false,
    "editable": false,
    "nbgrader": {
     "cell_type": "markdown",
     "checksum": "8df208bdf607dfa5266778d99fcbafbd",
     "grade": false,
     "grade_id": "cell-715a1129d4a9d8fe",
     "locked": true,
     "schema_version": 3,
     "solution": false
    }
   },
   "source": [
    "Axelrod 'organised' a tournament with many players. Here we will recreate the (first) tournament with axelrod. Take a look at [which strategies of the (first) tournament are implemented in axelrod](https://axelrod.readthedocs.io/en/stable/reference/overview_of_strategies.html#axelrod-s-first-tournament), and take a look [how to implement a tournament](https://axelrod.readthedocs.io/en/stable/tutorials/getting_started/tournament.html).\n"
   ]
  },
  {
   "cell_type": "code",
   "execution_count": 4,
   "metadata": {
    "deletable": false,
    "editable": false,
    "nbgrader": {
     "cell_type": "code",
     "checksum": "e4a36520caf0b3afe76dff5702a35104",
     "grade": false,
     "grade_id": "cell-d6792a50e241197e",
     "locked": true,
     "schema_version": 3,
     "solution": false
    }
   },
   "outputs": [
    {
     "name": "stderr",
     "output_type": "stream",
     "text": [
      "Playing matches:   5%|▌         | 6/120 [00:00<00:02, 51.35it/s]"
     ]
    },
    {
     "name": "stdout",
     "output_type": "stream",
     "text": [
      "[Tit For Tat, First by Tideman and Chieruzzi: (D, D), First by Nydegger, First by Grofman, First by Shubik, First by Stein and Rapoport: 0.05: (D, D), Grudger, First by Davis: 10, First by Graaskamp: 0.05, First by Downing, First by Feld: 1.0, 0.5, 200, First by Joss: 0.9, First by Tullock, First by Anonymous, Random: 0.5]\n"
     ]
    },
    {
     "name": "stderr",
     "output_type": "stream",
     "text": [
      "Playing matches: 100%|██████████| 120/120 [00:09<00:00, 12.54it/s]\n",
      "Analysing: 100%|██████████| 25/25 [00:00<00:00, 90.18it/s]\n"
     ]
    },
    {
     "data": {
      "image/png": "[encoded data removed]",
      "text/plain": [
       "<Figure size 864x432 with 1 Axes>"
      ]
     },
     "metadata": {
      "needs_background": "light"
     },
     "output_type": "display_data"
    },
    {
     "data": {
      "image/png": "[encoded data removed]",
      "text/plain": [
       "<Figure size 864x864 with 2 Axes>"
      ]
     },
     "metadata": {
      "needs_background": "light"
     },
     "output_type": "display_data"
    }
   ],
   "source": [
    "# Collect all the strategies played at the first tournament\n",
    "strategies = [strategy() for strategy in axl.axelrod_first_strategies]\n",
    "print(strategies)\n",
    "\n",
    "tournament = axl.Tournament(strategies, \n",
    "                            turns=200,\n",
    "                            repetitions=10)\n",
    "\n",
    "\n",
    "results = tournament.play()\n",
    "plot = axl.Plot(results)\n",
    "\n",
    "plot.boxplot();\n",
    "plot.payoff();"
   ]
  },
  {
   "cell_type": "markdown",
   "metadata": {
    "deletable": false,
    "editable": false,
    "nbgrader": {
     "cell_type": "markdown",
     "checksum": "85bb4a16cf6787fe4a38a68a57049001",
     "grade": false,
     "grade_id": "cell-bec8a61e0ba0a728",
     "locked": true,
     "schema_version": 3,
     "solution": false
    }
   },
   "source": [
    "Notice the similarity in strategy between the high scoring strategies? They are never the first to defect, **be nice**!"
   ]
  },
  {
   "cell_type": "markdown",
   "metadata": {
    "deletable": false,
    "editable": false,
    "nbgrader": {
     "cell_type": "markdown",
     "checksum": "58e381ca30a64328fe47f18407d5e1ea",
     "grade": false,
     "grade_id": "cell-1f3b145d47a48e8f",
     "locked": true,
     "schema_version": 3,
     "solution": false
    }
   },
   "source": [
    "### Evolutionary hawk-dove game\n",
    "The hawk-dove game is a game where two birds fight over some food, where the reward of the food is V. If both birds decide to be unagressive (dove), they each get half of the food. If one of the birds decides for fight for the food (hawk), while the other bird is unaggresive, the hawk gets all the food. If both birds are aggresive, they each get half the food minus the cost (C) of fighting:\n",
    "\n",
    "<table>\n",
    "    <tr>\n",
    "        <td></td>\n",
    "        <td></td>\n",
    "        <td>Player A</td>\n",
    "        <td></td>\n",
    "    </tr>\n",
    "    <tr>\n",
    "        <td></td>\n",
    "        <td></td>\n",
    "        <td>Dove</td>\n",
    "        <td>Hawk</td>\n",
    "    </tr>\n",
    "    <tr>\n",
    "        <td>Player B</td>\n",
    "        <td>Dove</td>\n",
    "        <td>(V/2, V/2)</td>\n",
    "        <td>(0, V)</td>\n",
    "    </tr>\n",
    "    <tr>\n",
    "        <td></td>\n",
    "        <td>Hawk</td>\n",
    "        <td>(V, 0)</td>\n",
    "        <td>((V-C) / 2, (V-C) / 2)</td>\n",
    "    </tr>\n",
    "</table>\n",
    "\n",
    "In this assignment we will implement an evolutionary hawk-dove game, as well as calculate the expected payoff for each strategy. \n",
    "\n",
    "$$\n",
    "\\begin{cases}\n",
    "(V - C) / 2 > 0 & \\text{Hawk strategy dominant}\\\\\n",
    "(V - C) / 2 < 0 & \\text{Mixed strategy!}\n",
    "\\end{cases}\n",
    "$$\n",
    "\n",
    "For a mixed strategy to hold the expected payoff for Hawk must be equal to Dove:\n",
    "$$\n",
    "E(U_D) = E(U_H)\n",
    "$$\n",
    "\n",
    "The expected payoff for dove:\n",
    "$$\n",
    "E(U_D) = \\frac{V}{2}(1 - p_H)\n",
    "$$\n",
    "\n",
    "The expected payoff for hawk:\n",
    "$$\n",
    "E(U_H) = \\frac{V - C}{2}p_H + V (1-p_H)\n",
    "$$\n",
    "\n",
    "Now solve:\n",
    "$$\n",
    "\\frac{V}{2}(1 - p_H) = \\frac{V - C}{2}p_H + V (1-p_H) \\\\ \n",
    "$$\n",
    "And implement function proportion_hawk, that calculates the proportion of hawks according to this equation."
   ]
  },
  {
   "cell_type": "code",
   "execution_count": 5,
   "metadata": {
    "deletable": false,
    "nbgrader": {
     "cell_type": "code",
     "checksum": "9241346fa275b10289483490e3977601",
     "grade": false,
     "grade_id": "cell-e84fed0f9475b468",
     "locked": false,
     "schema_version": 3,
     "solution": true
    }
   },
   "outputs": [],
   "source": [
    "def proportion_hawk(V, C):\n",
    "    \"\"\"\n",
    "    This function returns the expected number of hawks for V and C.\n",
    "    \"\"\"\n",
    "    # YOUR CODE HERE\n",
    "    if V >= C:\n",
    "        return 1\n",
    "    if V < C:\n",
    "        return V/C"
   ]
  },
  {
   "cell_type": "code",
   "execution_count": 6,
   "metadata": {
    "deletable": false,
    "editable": false,
    "nbgrader": {
     "cell_type": "code",
     "checksum": "fdd10eec1dc16b3f0d33b00a6c4aa825",
     "grade": true,
     "grade_id": "cell-75990e61db18b727",
     "locked": true,
     "points": 1,
     "schema_version": 3,
     "solution": false
    }
   },
   "outputs": [],
   "source": [
    "assert isinstance(proportion_hawk(1, 2), (int, float)), \"The function should return numerical (int of float) values\"\n",
    "assert 0 <= proportion_hawk(1, 2) <= 1, \"A proportion value is always between 0 and 1!\"\n",
    "assert proportion_hawk(2, 1) == 1, \"This is a hawk-dominant solution!\""
   ]
  },
  {
   "cell_type": "markdown",
   "metadata": {
    "deletable": false,
    "editable": false,
    "nbgrader": {
     "cell_type": "markdown",
     "checksum": "f70980d9e9d2c0f73dd066c337beff67",
     "grade": false,
     "grade_id": "cell-0db6f8554941bf22",
     "locked": true,
     "schema_version": 3,
     "solution": false
    }
   },
   "source": [
    "We can test if our calculation is correct/holds in an evolutionary setting. We will test this by implementing a [Moran Process](https://axelrod.readthedocs.io/en/stable/tutorials/getting_started/moran.html), which is an evolutionary game, where after each round in the tournament one random individual changes its strategy based on fitness proportionate selection. Implement your a [new game](https://axelrod.readthedocs.io/en/stable/tutorials/advanced/games.html) based on the hawk-dove payoff, and feed it to a Moran process."
   ]
  },
  {
   "cell_type": "code",
   "execution_count": 7,
   "metadata": {
    "deletable": false,
    "nbgrader": {
     "cell_type": "code",
     "checksum": "40c4cba9853bdeb9251c74259472b570",
     "grade": false,
     "grade_id": "cell-963495b08cefad96",
     "locked": false,
     "schema_version": 3,
     "solution": true
    }
   },
   "outputs": [
    {
     "data": {
      "image/png": "[encoded data removed]",
      "text/plain": [
       "<Figure size 432x288 with 1 Axes>"
      ]
     },
     "metadata": {
      "needs_background": "light"
     },
     "output_type": "display_data"
    }
   ],
   "source": [
    "import matplotlib.pyplot as plt\n",
    "\n",
    "# Set the values \n",
    "V = 1\n",
    "C = 3\n",
    "\n",
    "# Generate for instance 25 hawks (defectors) and 25 (cooperators)\n",
    "# YOUR CODE HERE\n",
    "players = [axl.Defector(), axl.Defector(), axl.Defector(), axl.Defector(), axl.Defector(),\n",
    "          axl.Defector(), axl.Defector(), axl.Defector(), axl.Defector(), axl.Defector(),\n",
    "          axl.Defector(), axl.Defector(), axl.Defector(), axl.Defector(), axl.Defector(),\n",
    "          axl.Defector(), axl.Defector(), axl.Defector(), axl.Defector(), axl.Defector(),\n",
    "          axl.Defector(), axl.Defector(), axl.Defector(), axl.Defector(), axl.Defector(),\n",
    "          axl.Cooperator(), axl.Cooperator(), axl.Cooperator(), axl.Cooperator(), axl.Cooperator(),\n",
    "          axl.Cooperator(), axl.Cooperator(), axl.Cooperator(), axl.Cooperator(), axl.Cooperator(),\n",
    "          axl.Cooperator(), axl.Cooperator(), axl.Cooperator(), axl.Cooperator(), axl.Cooperator(),\n",
    "          axl.Cooperator(), axl.Cooperator(), axl.Cooperator(), axl.Cooperator(), axl.Cooperator(),\n",
    "          axl.Cooperator(), axl.Cooperator(), axl.Cooperator(), axl.Cooperator(), axl.Cooperator()]\n",
    "\n",
    "\n",
    "# Implement a hawk dove game\n",
    "# YOUR CODE HERE\n",
    "hawkdove = axl.game.Game(r=V/2, s=0, t=V, p=(V-C)/2)\n",
    "\n",
    "# feed the hawkdove game to the MoranProcess\n",
    "mp = axl.MoranProcess(players, turns=1, game=hawkdove)\n",
    "\n",
    "# let's see how it evolves\n",
    "iters = 100\n",
    "for _ in range(iters):\n",
    "    if not mp.fixation_check():\n",
    "        next(mp)\n",
    "        \n",
    "# now make a pretty plot\n",
    "mp.populations_plot()\n",
    "plt.show()"
   ]
  },
  {
   "cell_type": "code",
   "execution_count": 8,
   "metadata": {
    "deletable": false,
    "editable": false,
    "nbgrader": {
     "cell_type": "code",
     "checksum": "d7175a2eb957099241ecb2a55d123009",
     "grade": true,
     "grade_id": "cell-8378b6b057fb7c64",
     "locked": true,
     "points": 1,
     "schema_version": 3,
     "solution": false
    }
   },
   "outputs": [],
   "source": [
    "assert \"players\" in vars(), \"store the the strategies as variable players\"\n",
    "assert all(type(player).__name__ in ['Cooperator', 'Defector'] for player in players), \"only hawks and doves, please!\"\n",
    "\n",
    "assert \"hawkdove\" in vars(), \"store the hawk dove ´game' as variable hawkdove\"\n",
    "assert type(hawkdove).__name__ == 'Game'\n"
   ]
  },
  {
   "cell_type": "markdown",
   "metadata": {
    "deletable": false,
    "editable": false,
    "nbgrader": {
     "cell_type": "markdown",
     "checksum": "d93992bacc23f36a6d62400e16f022a0",
     "grade": false,
     "grade_id": "cell-e0536d1a450c9492",
     "locked": true,
     "schema_version": 3,
     "solution": false
    }
   },
   "source": [
    "### Nash equilibria\n",
    "Nash equilibria are equilibria where no player has anything to **gain** by changing only their own strategy. Implement the function `find_nash()`, that returns the list of nash equilibria for a payoff matrix. We already implemented the functions max_row and max_col for you, which might help in solving the assignment. "
   ]
  },
  {
   "cell_type": "code",
   "execution_count": 9,
   "metadata": {
    "deletable": false,
    "nbgrader": {
     "cell_type": "code",
     "checksum": "a14f46a9631007a05465f864cdee3b7d",
     "grade": false,
     "grade_id": "cell-e7b353ff5650f7f9",
     "locked": false,
     "schema_version": 3,
     "solution": true
    }
   },
   "outputs": [],
   "source": [
    "def max_row(matrix, row_nr):\n",
    "    \"\"\"\n",
    "    A helper function that returns the maximum payoff for player B given a row index\n",
    "    \"\"\"\n",
    "    return max(x[1] for x in matrix[row_nr])\n",
    "\n",
    "def max_col(matrix, col_nr):\n",
    "    \"\"\"\n",
    "    A helper function that returns the maximum payoff for player A given a column index\n",
    "    \"\"\"\n",
    "    return max(matrix[i][col_nr][0] for i in range(len(matrix)))\n",
    "    \n",
    "def find_nash(payoff_matrix):\n",
    "    \"\"\"\n",
    "    Returns a list of indices [(index_player_B, index_player_A)] of the Nash-equilibria. \n",
    "    If no indices are present returns an empty list.\n",
    "    \"\"\"\n",
    "    nash_equilibria = []\n",
    "    # YOUR CODE HERE\n",
    "    for i in range(len(payoff_matrix)):\n",
    "        for j in range(len(payoff_matrix[0])):\n",
    "            if payoff_matrix[i][j][1] == max_row(payoff_matrix, i) and payoff_matrix[i][j][0] == max_col(payoff_matrix, j):\n",
    "                nash_equilibria.append((i, j))\n",
    "    return nash_equilibria"
   ]
  },
  {
   "cell_type": "code",
   "execution_count": 10,
   "metadata": {
    "deletable": false,
    "editable": false,
    "nbgrader": {
     "cell_type": "code",
     "checksum": "6a28551a622c5604cd04919ca4a99eee",
     "grade": true,
     "grade_id": "cell-1c0c928bc993bd0f",
     "locked": true,
     "points": 2,
     "schema_version": 3,
     "solution": false
    }
   },
   "outputs": [],
   "source": [
    "\n",
    "payoff_matrix = [[(1, 0), (0, 1)],\n",
    "                 [(0, 1), (1, 0)]]\n",
    "assert set(find_nash(payoff_matrix)) == set([])\n",
    "\n",
    "payoff_matrix = [[(2, 2), (0, 0)],\n",
    "                 [(0, 0), (1, 1)]]\n",
    "assert set(find_nash(payoff_matrix)) == set([(0, 0), (1, 1)])\n",
    "\n",
    "payoff_matrix = [[(0, 0), (1, 1)],\n",
    "                 [(1, 1), (1, 1)]]\n",
    "assert set(find_nash(payoff_matrix)) == set([(0, 1), (1, 0), (1, 1)])\n",
    "\n",
    "payoff_matrix = [[(0, 0), (1, 1)],\n",
    "                 [(1, 1), (1, 1)],\n",
    "                 [(2, 2), (1, 1)]]\n",
    "assert set(find_nash(payoff_matrix)) == set([(0, 1), (1, 1), (2, 0)])\n"
   ]
  },
  {
   "cell_type": "markdown",
   "metadata": {
    "deletable": false,
    "editable": false,
    "nbgrader": {
     "cell_type": "markdown",
     "checksum": "c9d506dc7a940023a32a2224771ea5f4",
     "grade": false,
     "grade_id": "cell-9e93d70e90fb35fe",
     "locked": true,
     "schema_version": 3,
     "solution": false
    }
   },
   "source": [
    "### Iterated Elimination of Dominated Strategies (IEDS)\n",
    "A strictly dominant strategy is a strategy that is always better than another strategy for a player. Lets assume the following payoff table: \n",
    "<table>\n",
    "    <tr>\n",
    "        <td></td>\n",
    "        <td></td>\n",
    "        <td>Player A</td>\n",
    "        <td></td>\n",
    "    </tr>\n",
    "    <tr>\n",
    "        <td></td>\n",
    "        <td></td>\n",
    "        <td>C</td>\n",
    "        <td>D</td>\n",
    "    </tr>\n",
    "    <tr>\n",
    "        <td>Player B</td>\n",
    "        <td>C</td>\n",
    "        <td>(1, 2)</td>\n",
    "        <td>(2, 1)</td>\n",
    "    </tr>\n",
    "    <tr>\n",
    "        <td></td>\n",
    "        <td>**D**</td>\n",
    "        <td>**(4, 1)**</td>\n",
    "        <td>**(3, 2)**</td>\n",
    "    </tr>\n",
    "</table>\n",
    "For player A it is unclear whether to play Cooperate or Defect, since it depends on the strategy of the other player which is best. However, for player B it is always better to defect, since those rewards are always higher than the cooperation scores. We say that Cooperation is a (strictly) dominated rule, we can therefore ignore this row in the game (under the assumption that the player is purely rational):\n",
    "<table>\n",
    "    <tr>\n",
    "        <td></td>\n",
    "        <td></td>\n",
    "        <td>Player A</td>\n",
    "        <td></td>\n",
    "    </tr>\n",
    "    <tr>\n",
    "        <td></td>\n",
    "        <td></td>\n",
    "        <td>C</td>\n",
    "        <td>**D**</td>\n",
    "    </tr>\n",
    "    <tr>\n",
    "        <td>Player B</td>\n",
    "        <td></td>\n",
    "        <td></td>\n",
    "        <td></td>\n",
    "    </tr>\n",
    "    <tr>\n",
    "        <td></td>\n",
    "        <td>D</td>\n",
    "        <td>(4, 1)</td>\n",
    "        <td>**(3, 2)**</td>\n",
    "    </tr>\n",
    "</table>\n",
    "Since player A knows the payoff for player B, it knows that player B will always play Defect. Using this knowledge, it is obvious for player A that Defection always has a higher reward than Cooperation (Cooperation is dominated by Defect). We can therefore also ignore the Cooperation column for player A. Now we end up with a simple table with one **dominant** option:\n",
    "<table>\n",
    "    <tr>\n",
    "        <td></td>\n",
    "        <td></td>\n",
    "        <td>Player A</td>\n",
    "        <td></td>\n",
    "    </tr>\n",
    "    <tr>\n",
    "        <td></td>\n",
    "        <td></td>\n",
    "        <td></td>\n",
    "        <td>D</td>\n",
    "    </tr>\n",
    "    <tr>\n",
    "        <td>Player B</td>\n",
    "        <td></td>\n",
    "        <td></td>\n",
    "        <td></td>\n",
    "    </tr>\n",
    "    <tr>\n",
    "        <td></td>\n",
    "        <td>D</td>\n",
    "        <td></td>\n",
    "        <td>(3, 2)</td>\n",
    "    </tr>\n",
    "</table>\n",
    "Rational players will always always play defect with the original payoff matrix.\n",
    "\n",
    "In the next assignment we will implement the Iterated Elimination of Dominated Strategies algorithm. The algorithm works by iteratively removing dominated strategies, just like we did in the example. You only have to remove **strictly dominated** strategies! We already implemented the functions `remove_row()` and `remove_col()` for you, which might help in solving the assignment."
   ]
  },
  {
   "cell_type": "code",
   "execution_count": 11,
   "metadata": {
    "deletable": false,
    "nbgrader": {
     "cell_type": "code",
     "checksum": "16cfebbaf7f2b69b8facfb3a58084a57",
     "grade": false,
     "grade_id": "cell-12ce60a0d624b2ed",
     "locked": false,
     "schema_version": 3,
     "solution": true
    }
   },
   "outputs": [],
   "source": [
    "import copy\n",
    "import numpy\n",
    "\n",
    "# if list_a strictly smaller than list_b\n",
    "def list_small_cmp(a, b):\n",
    "    if a == b: # a = b = [1, 1, 1]\n",
    "        return False\n",
    "    cmp_result = []\n",
    "    for i, ai in enumerate(a):\n",
    "        if a[i] >= b[i]:\n",
    "            cmp_result.append(False)\n",
    "        else:\n",
    "            cmp_result.append(True)\n",
    "    if cmp_result.__contains__(True) and cmp_result.__contains__(False):\n",
    "        return False\n",
    "    else:\n",
    "        return cmp_result[0]\n",
    "\n",
    "# find index that should be deleted\n",
    "def find_delete_index(lists):\n",
    "    delete_index = []\n",
    "    for i, list_a in enumerate(lists):\n",
    "        for j, list_b in enumerate(lists):\n",
    "            if j != i and list_small_cmp(list_a, list_b):\n",
    "                delete_index.append(i)\n",
    "                break\n",
    "    return delete_index\n",
    "\n",
    "def get_B_matrix(matrix):\n",
    "    m = copy.deepcopy(matrix)\n",
    "    for i, row in enumerate(m):\n",
    "        for j, col in enumerate(row):\n",
    "            m[i][j] = m[i][j][0]\n",
    "    return m\n",
    "\n",
    "def get_A_matrix(matrix):\n",
    "    m = copy.deepcopy(matrix)\n",
    "    for i, row in enumerate(m):\n",
    "        for j, col in enumerate(row):\n",
    "            m[i][j] = m[i][j][1]\n",
    "    m = numpy.asarray(m)\n",
    "    return m.transpose().tolist()\n",
    "\n",
    "def remove_rows(matrix, rows_indexes):\n",
    "    for counter, index in enumerate(rows_indexes):\n",
    "        index = index - counter\n",
    "        del matrix[index]\n",
    "\n",
    "def remove_cols(matrix, cols_indexes):\n",
    "    for counter, index in enumerate(cols_indexes):\n",
    "        index = index - counter\n",
    "        for row_i in range(len(matrix)):\n",
    "            del matrix[row_i][index]\n",
    "\n",
    "def remove_row(matrix, row_nr):\n",
    "    \"\"\"\n",
    "    A helper function that deletes a row by its index\n",
    "    \"\"\"\n",
    "    del matrix[row_nr]\n",
    "    \n",
    "def remove_col(matrix, col_nr):\n",
    "    \"\"\"\n",
    "    A helper function that deletes a column by its index\n",
    "    \"\"\"\n",
    "    for row_i in range(len(matrix)):\n",
    "        del matrix[row_i][col_nr]\n",
    "\n",
    "\n",
    "def IEDS(payoff_matrix):\n",
    "    \"\"\"\n",
    "    The Iterated Elimination of Dominated Strategies algorithm. \n",
    "    Returns the smallest subset of non-dominated strategies\n",
    "    \"\"\"\n",
    "    matrix = copy.deepcopy(payoff_matrix)\n",
    "    # YOUR CODE HERE\n",
    "    while True:\n",
    "        pre_matrix = copy.deepcopy(matrix)\n",
    "        # delete rows of B\n",
    "        B = get_B_matrix(matrix)\n",
    "        delete_indexes = find_delete_index(B)\n",
    "        remove_rows(matrix, delete_indexes)\n",
    "        # delete columns of A\n",
    "        A = get_A_matrix(matrix)\n",
    "        delete_indexes = find_delete_index(A)\n",
    "        remove_cols(matrix, delete_indexes)\n",
    "        # loop until not change\n",
    "        if pre_matrix == matrix:\n",
    "            break\n",
    "    return matrix "
   ]
  },
  {
   "cell_type": "code",
   "execution_count": 12,
   "metadata": {
    "deletable": false,
    "editable": false,
    "nbgrader": {
     "cell_type": "code",
     "checksum": "f61c7981c5d3e616098d4315e3cc3cf3",
     "grade": true,
     "grade_id": "cell-4943b85a4d67c974",
     "locked": true,
     "points": 2,
     "schema_version": 3,
     "solution": false
    }
   },
   "outputs": [],
   "source": [
    "payoff_matrix = [[(1, 1)]]\n",
    "assert IEDS(payoff_matrix) == [[(1, 1)]]\n",
    "\n",
    "payoff_matrix = [[(2, 2)],\n",
    "                 [(1, 1)],\n",
    "                 [(7, 1)],\n",
    "                 [(1, 2)]]\n",
    "assert IEDS(payoff_matrix) == [[(7, 1)]]\n",
    "\n",
    "payoff_matrix = [[(2, 2), (1, 1)],\n",
    "                 [(1, 1), (0, 0)]]\n",
    "assert IEDS(payoff_matrix) == [[(2, 2)]]\n",
    "\n",
    "payoff_matrix = [[(3, 1), (0, 1), (0, 0)],\n",
    "                 [(1, 1), (1, 1), (5, 0)],\n",
    "                 [(0, 1), (4, 1), (0, 0)]]\n",
    "assert IEDS(payoff_matrix) == [[(3, 1), (0, 1)], \n",
    "                               [(1, 1), (1, 1)], \n",
    "                               [(0, 1), (4, 1)]]\n"
   ]
  },
  {
   "cell_type": "markdown",
   "metadata": {
    "deletable": false,
    "editable": false,
    "nbgrader": {
     "cell_type": "markdown",
     "checksum": "2b818dfe5a399dda38b9c41a733f1f98",
     "grade": false,
     "grade_id": "cell-99c9c8922a4d3a0b",
     "locked": true,
     "schema_version": 3,
     "solution": false
    }
   },
   "source": [
    "### Spatial prisonners dilemma\n",
    "The module axelrod has a built-in option for spatial tournaments, see [here](https://axelrod.readthedocs.io/en/stable/tutorials/further_topics/spatial_tournaments.html). Or you could easily combine it with mesa! Take a look at the folder mesa_axelrod for a very simple example, where there are agents walking around randomly, and playing iterated prisonners dilemma. Winners reproduce, and losers die. "
   ]
  },
  {
   "cell_type": "code",
   "execution_count": null,
   "metadata": {},
   "outputs": [],
   "source": []
  }
 ],
 "metadata": {
  "kernelspec": {
   "display_name": "Python 3",
   "language": "python",
   "name": "python3"
  },
  "language_info": {
   "codemirror_mode": {
    "name": "ipython",
    "version": 3
   },
   "file_extension": ".py",
   "mimetype": "text/x-python",
   "name": "python",
   "nbconvert_exporter": "python",
   "pygments_lexer": "ipython3",
   "version": "3.8.3"
  }
 },
 "nbformat": 4,
 "nbformat_minor": 2
}
