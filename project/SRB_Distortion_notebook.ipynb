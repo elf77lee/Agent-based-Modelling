{
 "cells": [
  {
   "cell_type": "code",
   "execution_count": 1,
   "metadata": {},
   "outputs": [
    {
     "data": {
      "text/plain": [
       "sex_distortion.SexDistortion"
      ]
     },
     "execution_count": 1,
     "metadata": {},
     "output_type": "execute_result"
    }
   ],
   "source": [
    "import pandas as pd\n",
    "from scipy.optimize import curve_fit \n",
    "import numpy as np\n",
    "from IPython.display import clear_output\n",
    "import mesa\n",
    "import scipy.optimize as opt\n",
    "import math\n",
    "from scipy.optimize import Bounds\n",
    "from functools import reduce\n",
    "from mesa.batchrunner import BatchRunner\n",
    "import os\n",
    "import time\n",
    "from sex_distortion import SexDistortion\n",
    "clear_output(wait=True)\n",
    "SexDistortion"
   ]
  },
  {
   "cell_type": "code",
   "execution_count": 2,
   "metadata": {},
   "outputs": [],
   "source": [
    "#Read CFPS data\n",
    "df=pd.read_csv('data/cfps2014adult.csv',delimiter='\\t')\n",
    "child_df=pd.read_csv('data/cfps2014child.csv',delimiter='\\t')\n",
    "appendix=pd.read_csv('data/append_income.csv',delimiter='\\t')"
   ]
  },
  {
   "cell_type": "code",
   "execution_count": 5,
   "metadata": {},
   "outputs": [
    {
     "name": "stderr",
     "output_type": "stream",
     "text": [
      "<ipython-input-5-928890c57877>:5: SettingWithCopyWarning: \n",
      "A value is trying to be set on a copy of a slice from a DataFrame.\n",
      "Try using .loc[row_indexer,col_indexer] = value instead\n",
      "\n",
      "See the caveats in the documentation: https://pandas.pydata.org/pandas-docs/stable/user_guide/indexing.html#returning-a-view-versus-a-copy\n",
      "  child['total_test']=child['word_test'].astype('float')+child['math_test'].astype('float')\n",
      "<ipython-input-5-928890c57877>:8: SettingWithCopyWarning: \n",
      "A value is trying to be set on a copy of a slice from a DataFrame.\n",
      "Try using .loc[row_indexer,col_indexer] = value instead\n",
      "\n",
      "See the caveats in the documentation: https://pandas.pydata.org/pandas-docs/stable/user_guide/indexing.html#returning-a-view-versus-a-copy\n",
      "  child_sup['family_edu_cost']=child_sup['family_edu_cost'].replace(['不适用','不知道'],'0').astype('float')\n",
      "<ipython-input-5-928890c57877>:9: SettingWithCopyWarning: \n",
      "A value is trying to be set on a copy of a slice from a DataFrame.\n",
      "Try using .loc[row_indexer,col_indexer] = value instead\n",
      "\n",
      "See the caveats in the documentation: https://pandas.pydata.org/pandas-docs/stable/user_guide/indexing.html#returning-a-view-versus-a-copy\n",
      "  child_sup['self_edu_cost']=child_sup['self_edu_cost'].fillna(0)\n"
     ]
    },
    {
     "name": "stdout",
     "output_type": "stream",
     "text": [
      "1700.0\n",
      "[ 0.28925115  1.43600609 -0.19679485]\n"
     ]
    },
    {
     "data": {
      "image/png": "[encoded data removed]",
      "text/plain": [
       "<Figure size 432x288 with 1 Axes>"
      ]
     },
     "metadata": {
      "needs_background": "light"
     },
     "output_type": "display_data"
    }
   ],
   "source": [
    "#I-E model parameter estimation\n",
    "\n",
    "child=child_df[(child_df['birth_year']<2007)\n",
    "          & ~(child_df['word_test'].isna()) & (child_df['word_test']!='不适用')]\n",
    "child['total_test']=child['word_test'].astype('float')+child['math_test'].astype('float')\n",
    "child=child.drop(['word_test','math_test'],axis=1)\n",
    "child_sup=df[(df['birth_year']>1996) & (df['self_edu_cost']!='不适用') & (df['income']=='0')]\n",
    "child_sup['family_edu_cost']=child_sup['family_edu_cost'].replace(['不适用','不知道'],'0').astype('float')\n",
    "child_sup['self_edu_cost']=child_sup['self_edu_cost'].fillna(0)\n",
    "child_sup=child_sup[['id','gender','birth_year','highest_edu','family_edu_cost','self_edu_cost']]\n",
    "child_sup['edu_cost']=child_sup.apply(lambda r:max(float(r.family_edu_cost),float(r.self_edu_cost)),axis=1)\n",
    "child_sup=child_sup.drop(['family_edu_cost','self_edu_cost'],axis=1)\n",
    "child_sup['total_test']=np.nan\n",
    "child_sup.columns=['child_id','gender','birth_year','school_year','edu_cost','total_test']\n",
    "child_sup=child_sup[['child_id','birth_year','gender','edu_cost','school_year','total_test']]\n",
    "child=pd.concat([child,child_sup],axis=0)\n",
    "\n",
    "#MODEL\n",
    "import matplotlib.pyplot as plt\n",
    "inv_edu=child[~(child['total_test'].isna())&~(child['edu_cost'].isna())][['edu_cost','total_test','gender']]\n",
    "minimum=np.min(inv_edu['total_test'])\n",
    "maximum=np.max(inv_edu['total_test'])\n",
    "edu_daughter=inv_edu[inv_edu['gender']=='女'][['edu_cost','total_test']]\n",
    "edu_son=inv_edu[inv_edu['gender']=='男'][['edu_cost','total_test']]\n",
    "edu_daughter=sorted(edu_daughter.to_numpy(),key=lambda x:x[0])\n",
    "edu_son=sorted(edu_son.to_numpy(),key=lambda x:x[0])\n",
    "edus=edu_daughter=inv_edu[['edu_cost','total_test']]\n",
    "edus=sorted(edus.to_numpy(),key=lambda x:x[0])\n",
    "\n",
    "\n",
    "def func_sigmoid(x,c1,c2,c3):\n",
    "    return 1/(np.exp(-c1*(x+c2))+1)+c3\n",
    "\n",
    "f=plt.figure()\n",
    "x=[]\n",
    "y=[]\n",
    "for i in edus:\n",
    "    x.append(i[0])\n",
    "    y.append(i[1])\n",
    "print(np.median(x))\n",
    "min_inv=np.min(x)\n",
    "max_inv=np.max(x)\n",
    "x=np.ma.convolve(x,np.ones(50,dtype=int),'valid')/50\n",
    "x=np.log(x/100+1)\n",
    "# x=norm(x)\n",
    "y=np.ma.convolve(y,np.ones(50,dtype=int),'valid')/50\n",
    "y=(y-minimum)/(maximum-minimum)\n",
    "plt.plot(x,y,label='actual edu_quality')\n",
    "iem_param,cov=curve_fit(func_sigmoid,x,y)\n",
    "result=[func_sigmoid(i,iem_param[0],iem_param[1],iem_param[2]) for i in x]\n",
    "plt.plot(x,result,label='fitted edu_quality')\n",
    "plt.xlabel(\"log(investment)\")\n",
    "plt.ylabel(\"test score\")\n",
    "plt.legend()\n",
    "print(iem_param)\n",
    "#edu_inv quantity  sublinear\n"
   ]
  },
  {
   "cell_type": "code",
   "execution_count": 8,
   "metadata": {},
   "outputs": [
    {
     "name": "stderr",
     "output_type": "stream",
     "text": [
      "/Users/sunweber/.local/share/virtualenvs/abm-assignments-nFGxnKtf/lib/python3.8/site-packages/pandas/core/ops/array_ops.py:253: FutureWarning: elementwise comparison failed; returning scalar instead, but in the future will perform elementwise comparison\n",
      "  res_values = method(rvalues)\n",
      "<ipython-input-8-da4420a72a64>:29: SettingWithCopyWarning: \n",
      "A value is trying to be set on a copy of a slice from a DataFrame.\n",
      "Try using .loc[row_indexer,col_indexer] = value instead\n",
      "\n",
      "See the caveats in the documentation: https://pandas.pydata.org/pandas-docs/stable/user_guide/indexing.html#returning-a-view-versus-a-copy\n",
      "  sub_p['family_income']=sub_p['income'].astype('float')+sub_p['c.income'].astype('float')\n",
      "<ipython-input-8-da4420a72a64>:46: SettingWithCopyWarning: \n",
      "A value is trying to be set on a copy of a slice from a DataFrame.\n",
      "Try using .loc[row_indexer,col_indexer] = value instead\n",
      "\n",
      "See the caveats in the documentation: https://pandas.pydata.org/pandas-docs/stable/user_guide/indexing.html#returning-a-view-versus-a-copy\n",
      "  data1['edu_cost']=data1['edu_cost'].fillna(0)\n",
      "<ipython-input-8-da4420a72a64>:48: SettingWithCopyWarning: \n",
      "A value is trying to be set on a copy of a slice from a DataFrame.\n",
      "Try using .loc[row_indexer,col_indexer] = value instead\n",
      "\n",
      "See the caveats in the documentation: https://pandas.pydata.org/pandas-docs/stable/user_guide/indexing.html#returning-a-view-versus-a-copy\n",
      "  data2['edu_cost']=data2['edu_cost'].fillna(0)+data2['edu_cost_2'].fillna(0)\n",
      "<ipython-input-8-da4420a72a64>:51: SettingWithCopyWarning: \n",
      "A value is trying to be set on a copy of a slice from a DataFrame.\n",
      "Try using .loc[row_indexer,col_indexer] = value instead\n",
      "\n",
      "See the caveats in the documentation: https://pandas.pydata.org/pandas-docs/stable/user_guide/indexing.html#returning-a-view-versus-a-copy\n",
      "  data3['edu_cost']=data3['edu_cost'].fillna(0)+data3['edu_cost_2'].fillna(0)+data3['edu_cost_3'].fillna(0)\n"
     ]
    },
    {
     "name": "stdout",
     "output_type": "stream",
     "text": [
      "[0.01394223 1.07057479]\n"
     ]
    },
    {
     "data": {
      "image/png": "[encoded data removed]",
      "text/plain": [
       "<Figure size 432x288 with 1 Axes>"
      ]
     },
     "metadata": {
      "needs_background": "light"
     },
     "output_type": "display_data"
    }
   ],
   "source": [
    "#I-I model paramster estimation\n",
    "\n",
    "adults=df[(df['birth_year']<1984) & (df['birth_year']>1964) \n",
    "          & (df['highest_edu']!='没数据') & ~(df['residence'].isna())\n",
    "          & (df['marriage']=='在婚（有配偶）') & (df['couple_id']!='不适用') &(df['income']!='缺失')]\n",
    "adults=adults.drop(['father_id','mother_id','self_edu_cost','marriage'],axis=1)\n",
    "adults['couple_id']=adults['couple_id'].astype('int64')\n",
    "adults['child1_id']=adults['child1_id'].replace(['不适用'],'0').astype('int64')\n",
    "adults['child2_id']=adults['child2_id'].replace(['不适用'],'0').astype('int64')\n",
    "adults['child3_id']=adults['child3_id'].replace(['不适用'],'0').astype('int64')\n",
    "adults['child4_id']=adults['child4_id'].replace(['不适用'],'0').astype('int64')\n",
    "\n",
    "adults=pd.merge(left=adults,right=appendix,left_on='id',right_on='id', how='left')\n",
    "adults['income']=adults.apply(lambda r:max(float(r.income),float(r.other_income)),axis=1)\n",
    "adults=adults.drop(['other_income'],axis=1)\n",
    "\n",
    "a1c=adults[adults['child1_id']!='不适用']\n",
    "a1c['child1_id']=a1c['child1_id'].astype('int64')\n",
    "temp=adults[['id','gender','highest_edu','income','residence','atleast_ason']]\n",
    "temp.columns=['id','c.gender','c.edu','c.income','c.residence','c.son_p']\n",
    "# temp=temp.set_index(['id'],inplace=False)\n",
    "# a1c=a1c.set_index(['id'],inplace=False)\n",
    "parents=pd.merge(left=a1c,right=temp,left_on='couple_id',right_on='id')\n",
    "\n",
    "#family size\n",
    "# family_total=pd.merge(left=parents,right=child,left_on='child1_id',right_on='child_id')\n",
    "sub_p=parents[['id_x','child1_id','child2_id','child3_id',\n",
    "        'child4_id','gender','highest_edu','residence','income','c.gender','c.edu','c.income','c.residence']]\n",
    "sub_p['family_income']=sub_p['income'].astype('float')+sub_p['c.income'].astype('float')\n",
    "# mini=np.min(sub_p['family_income'])\n",
    "# maxi=np.max(sub_p['family_income'])\n",
    "# sub_p['family_income']=(sub_p['family_income'].apply(lambda x:(x-mini)/(maxi-mini)))\n",
    "# sub_p=sub_p.drop(['income','c.income'],axis=1)\n",
    "# child['dummy_id']=child['child_id'].astype(object)\n",
    "sub_p=sub_p.drop_duplicates(subset=['child1_id'])\n",
    "sub_p=sub_p[sub_p['family_income']!=0]\n",
    "fml1=pd.merge(left=sub_p,right=child,left_on='child1_id',right_on='child_id',suffixes=(None,\"_1\"))\n",
    "fml2=pd.merge(left=fml1,right=child,left_on='child2_id',right_on='child_id',suffixes=(None,\"_2\"))\n",
    "fml3=pd.merge(left=fml2,right=child,left_on='child3_id',right_on='child_id',suffixes=(None,\"_3\"))\n",
    "# fml=pd.merge(left=fml4,right=child,left_on='child4_id',right_on='child_id',how='left',suffixes=(None,\"_4\"))\n",
    "fml1=fml1[fml1['child2_id']==0].drop(['child1_id','child2_id','child3_id','child4_id'],axis=1)\n",
    "fml2=fml2[fml2['child3_id']==0].drop(['child1_id','child2_id','child3_id','child4_id'],axis=1)\n",
    "fml3=fml3[fml3['child4_id']==0].drop(['child1_id','child2_id','child3_id','child4_id'],axis=1)\n",
    "\n",
    "data1=fml1[['family_income','edu_cost']]\n",
    "data1['edu_cost']=data1['edu_cost'].fillna(0)\n",
    "data2=fml2[['family_income','edu_cost','edu_cost_2']]\n",
    "data2['edu_cost']=data2['edu_cost'].fillna(0)+data2['edu_cost_2'].fillna(0)\n",
    "data2=data2.drop(['edu_cost_2'],axis=1)\n",
    "data3=fml3[['family_income','edu_cost','edu_cost_2','edu_cost_3']]\n",
    "data3['edu_cost']=data3['edu_cost'].fillna(0)+data3['edu_cost_2'].fillna(0)+data3['edu_cost_3'].fillna(0)\n",
    "data3=data3.drop(['edu_cost_2','edu_cost_3'],axis=1)\n",
    "\n",
    "#income-edu_cost \n",
    "#MODEL\n",
    "income_edu1=data1[data1['family_income']>20000]\n",
    "income_edu2=data2[data2['family_income']>20000]\n",
    "income_edu3=data3[data3['family_income']>20000]\n",
    "ie1=sorted(income_edu1.to_numpy(),key=lambda x:x[0])\n",
    "\n",
    "f=plt.figure()\n",
    "inc=[]\n",
    "inv=[]\n",
    "for i in ie1:\n",
    "    if(np.isnan(i[0]) or np.isnan(i[1])):\n",
    "        continue\n",
    "    inc.append(i[0])\n",
    "    inv.append(i[1])\n",
    "inc=np.ma.convolve(inc,np.ones(100,dtype=float),'valid')/100\n",
    "inv=np.ma.convolve(inv,np.ones(100,dtype=float),'valid')/100\n",
    "x_vals=inc/100\n",
    "def func_income_edu(x,a,b):\n",
    "    return 1/(a*x+b)\n",
    "iim_param,cov=curve_fit(func_income_edu,x_vals,inv/inc)\n",
    "test=lambda x:func_income_edu(x,iim_param[0],iim_param[1])\n",
    "result=np.array(list(map(test,x_vals)))\n",
    "# plt.plot(x_vals,-np.log(inv/inc))\n",
    "plt.plot(x_vals,inv/inc,label='actual investment ratio')\n",
    "plt.plot(x_vals,result,label='fitted investment ratio')\n",
    "print(iim_param)\n",
    "plt.xlabel(\"family income\")\n",
    "plt.ylabel(\"investment ratio\")\n",
    "plt.legend()\n",
    "plt.savefig('fi.pdf',bbox_inches='tight')\n"
   ]
  },
  {
   "cell_type": "code",
   "execution_count": null,
   "metadata": {
    "scrolled": true
   },
   "outputs": [],
   "source": [
    "\n",
    "#income_invest_model\n",
    "iim=lambda income: 1/(iim_param[0]*income/100+iim_param[1])\n",
    "#invest_edu_model\n",
    "def iem(invest,gender):\n",
    "    if(invest/100+1<0):\n",
    "        print(invest)\n",
    "    x=np.log(invest/100+1)\n",
    "    return 1/(np.exp(-iem_param[0]*(x+iem_param[1]))+1)+iem_param[2]\n"
   ]
  },
  {
   "cell_type": "code",
   "execution_count": null,
   "metadata": {
    "scrolled": true
   },
   "outputs": [],
   "source": [
    "\n",
    "model = SexDistortion(iim,iem,initial_utility=1.1,base_population=100,gender_control_coverage=0.1,pressure=0.08)\n",
    "model.run_model()\n",
    "\n"
   ]
  }
 ],
 "metadata": {
  "kernelspec": {
   "display_name": "Python 3",
   "language": "python",
   "name": "python3"
  },
  "language_info": {
   "codemirror_mode": {
    "name": "ipython",
    "version": 3
   },
   "file_extension": ".py",
   "mimetype": "text/x-python",
   "name": "python",
   "nbconvert_exporter": "python",
   "pygments_lexer": "ipython3",
   "version": "3.8.5"
  }
 },
 "nbformat": 4,
 "nbformat_minor": 4
}
